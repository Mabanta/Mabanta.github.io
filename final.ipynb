{
 "cells": [
  {
   "cell_type": "markdown",
   "metadata": {},
   "source": [
    "Analyzing Music Trends From the past year"
   ]
  },
  {
   "cell_type": "markdown",
   "metadata": {},
   "source": [
    "Explanation of Motivation & Provide Resources\n",
    "\n",
    "Motivation: each tutorial should be sufficiently motivated. If there is not motivation for the analysis, why would we ‘do data science’ on this topic?\n",
    "\n",
    "Resources: tutorials should help the reader learn a skill, but they should also provide a launching pad for the reader to further develop that skill. The tutorial should link to additional resources wherever appropriate, so that a well-motivated reader can read further on techniques that have been used in the tutorial."
   ]
  },
  {
   "cell_type": "markdown",
   "metadata": {},
   "source": [
    "Phase 1: Data Collection, Curation, and Parsing"
   ]
  },
  {
   "cell_type": "code",
   "execution_count": null,
   "metadata": {},
   "outputs": [],
   "source": [
    "# Import Libraries\n",
    "import pandas as pd\n",
    "import numpy as np\n",
    "import requests as rq\n",
    "from bs4 import BeautifulSoup as bs\n",
    "import datetime as dt\n",
    "import re\n",
    "\n",
    "# Helper Functions\n",
    "def format_datetime(datetime):\n",
    "    return str(datetime.year).zfill(4) + \"-\" + str(datetime.month).zfill(2) + \"-\" + str(datetime.day).zfill(2) \n",
    "\n",
    "def format_artist(artists):\n",
    "    form1 = re.sub(\"&amp;\", \"&\", artists)\n",
    "    form2 = re.sub(\"Featuring\", \"ft.\", form1)\n",
    "    return form2\n",
    "\n",
    "def remove_tags(tag, string):\n",
    "    tag1 =\"<\" + tag + \".*?>\\s*\"\n",
    "    tag2 = \"\\s*</\" + tag + \".*?>\"\n",
    "    return re.sub(tag2, \"\", re.sub(tag1, \"\", string))\n",
    "\n",
    "def scrape_billboard(start_date, end_date, page):\n",
    "    info_list = []\n",
    "    date = start_date\n",
    "    while date <= end_date:\n",
    "        billboard_url = \"https://www.billboard.com/\"  + page + format_datetime(date) + \"/\"\n",
    "        soup = bs(rq.get(billboard_url).content)\n",
    "        charts = soup.find_all(\"div\", class_=re.compile(\"o-chart-results-list-row-container\"))\n",
    "        for entry in charts:\n",
    "            rank = remove_tags(\"span\", str(entry.find(\"span\", class_=re.compile(\"c-label a-font-primary-bold-l\"))))\n",
    "            title = remove_tags(\"h3\", str(entry.find(\"h3\", class_=re.compile(\"c-title\"))))\n",
    "            artist = remove_tags(\"span\", str(entry.find(\"span\", class_=re.compile(\"c-label a-no-trucate\"))))\n",
    "            # Handle Multiple Artists\n",
    "            artist = format_artist(artist)\n",
    "            data = {\"Week\": date, \"Rank\": rank, \"Title\": title, \"Artist\": artist}\n",
    "            info_list.append(data)\n",
    "        date += dt.timedelta(days = 7)\n",
    "    return pd.DataFrame(info_list)\n",
    "\n",
    "def scrape_azlyrics():\n",
    "    return 1\n",
    "\n",
    "def scrape_hooktheory():\n",
    "    # Get Chord and Melody Metrics as defined by Hook Theory\n",
    "    url = \"https://www.hooktheory.com/theorytab/view/mariah-carey/all-i-want-for-christmas-is-you\"\n",
    "    soup = bs(rq.get(url).content)\n",
    "    print(soup.prettify)\n",
    "    return 1"
   ]
  },
  {
   "cell_type": "code",
   "execution_count": null,
   "metadata": {},
   "outputs": [],
   "source": [
    "df = scrape_billboard(dt.date(2022, 5, 14), dt.date.today(), \"charts/hot-100/\")\n",
    "df.to_csv(\"csv/billboard_data.csv\")\n",
    "billboard_data = pd.read_csv(\"csv/billboard_data.csv\").iloc[:, 1:]\n",
    "billboard_data.head(100)"
   ]
  },
  {
   "cell_type": "code",
   "execution_count": 142,
   "metadata": {},
   "outputs": [
    {
     "name": "stdout",
     "output_type": "stream",
     "text": [
      "3nBGFgfRQ8ujSmu5cGlZIU\n"
     ]
    }
   ],
   "source": [
    "# pip install spotipy\n",
    "import spotipy\n",
    "from spotipy.oauth2 import SpotifyClientCredentials\n",
    "import config\n",
    "\n",
    "authentication = SpotifyClientCredentials(client_id = config.cid, client_secret = config.csecret)\n",
    "sp = spotipy.Spotify(client_credentials_manager = authentication)\n",
    "\n",
    "q = \"track:{} artist:{}\".format(\"Playing God\", \"Polyphia\")\n",
    "spotify_id = sp.search(q, type='track', limit=1)['tracks']['items'][0]['id']\n",
    "print(spotify_id)"
   ]
  },
  {
   "cell_type": "markdown",
   "metadata": {},
   "source": [
    "Phase 2: Data Management and Representation"
   ]
  },
  {
   "cell_type": "code",
   "execution_count": null,
   "metadata": {},
   "outputs": [],
   "source": []
  },
  {
   "cell_type": "markdown",
   "metadata": {},
   "source": [
    "Phase 3: Exploratory Data Analysis"
   ]
  },
  {
   "cell_type": "code",
   "execution_count": null,
   "metadata": {},
   "outputs": [],
   "source": []
  },
  {
   "cell_type": "markdown",
   "metadata": {},
   "source": [
    "Phase 4: Hypothesis Testing"
   ]
  },
  {
   "cell_type": "code",
   "execution_count": null,
   "metadata": {},
   "outputs": [],
   "source": []
  },
  {
   "cell_type": "markdown",
   "metadata": {},
   "source": [
    "Phase 5: Communication of Insights Attained"
   ]
  },
  {
   "cell_type": "markdown",
   "metadata": {},
   "source": [
    "Understanding: the reader of the tutorial should walk away with some new understanding of the topic at hand. If it’s not possible for a reader to state ‘what they learned’ from reading your tutorial, then why do the analysis?"
   ]
  }
 ],
 "metadata": {
  "interpreter": {
   "hash": "d4d1e4263499bec80672ea0156c357c1ee493ec2b1c70f0acce89fc37c4a6abe"
  },
  "kernelspec": {
   "display_name": "Python 3.9.12 ('base')",
   "language": "python",
   "name": "python3"
  },
  "language_info": {
   "codemirror_mode": {
    "name": "ipython",
    "version": 3
   },
   "file_extension": ".py",
   "mimetype": "text/x-python",
   "name": "python",
   "nbconvert_exporter": "python",
   "pygments_lexer": "ipython3",
   "version": "3.9.12"
  },
  "orig_nbformat": 4
 },
 "nbformat": 4,
 "nbformat_minor": 2
}
